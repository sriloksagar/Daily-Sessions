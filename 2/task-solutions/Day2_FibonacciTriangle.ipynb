{
 "cells": [
  {
   "cell_type": "markdown",
   "metadata": {},
   "source": [
    "# Fibonacci Triangle\n",
    "In this notebook, I have demonstrated a funtion to print a Fibonacci triangle. The Fibonacci sequence is generated as follows:\n",
    "\n",
    "$$\n",
    "X(t+1) = X(t) + X(t-1)\n",
    "$$\n",
    "\n",
    "... which means the next number in the sequence is the sum of the previous two numbers. We therefore need two numbers to start the sequence. Typically, they are 0 and 1. In our example, we will leave it to the user to decide whether they want to start as (0, 1) or (1, 1). Apart from generating the sequence, we also have to print it out as a triangle, given its height ($n$). Thus, we also have to track how many numbers will be printed in each line.\n",
    "\n",
    "I will demonstrate two approaches: one in which we generate the required numbers first and then arrange them in a triangle; the second in which we generate only as many numbers as are needed for a particular line and print all of them out. We'll compare the runtimes for both.\n",
    "\n",
    "**NOTE**: Runtimes will keep changing over runs based on background processes being performed by your system. Thus runtimes will potentially be very different on differnt systems. "
   ]
  },
  {
   "cell_type": "code",
   "execution_count": 1,
   "metadata": {},
   "outputs": [],
   "source": [
    "# Dependencies\n",
    "import time       # Becuase it'll be difficult with a stopwatch"
   ]
  },
  {
   "cell_type": "markdown",
   "metadata": {},
   "source": [
    "## Approach 1\n",
    "For a triangle of size $n$, it is easy to realize that we'll need the first $\\frac{n(n+1)}{2}$ numbers of the sequence. Let's first generate all of them, and then print them out in a triangle as needed."
   ]
  },
  {
   "cell_type": "code",
   "execution_count": 2,
   "metadata": {},
   "outputs": [],
   "source": [
    "def FibonacciTriangle1(start=1, n=5):\n",
    "    \n",
    "    # Here, we generate n*(n+1)/2 numbers first\n",
    "    previous = start\n",
    "    current = 1\n",
    "    nums = list()\n",
    "    for _ in range(int(n*(n+1)/2)):\n",
    "        nums.append(previous)\n",
    "        new = current + previous\n",
    "        previous = current\n",
    "        current = new\n",
    "        \n",
    "    # Now we have all the numbers we need\n",
    "    # Let's print them out in a triangle\n",
    "    loc = 0\n",
    "    for length in range(1, n+1):\n",
    "        print(*nums[loc: loc+length], sep=' ')\n",
    "        loc += length"
   ]
  },
  {
   "cell_type": "code",
   "execution_count": 3,
   "metadata": {},
   "outputs": [
    {
     "name": "stdout",
     "output_type": "stream",
     "text": [
      "1\n",
      "1 2\n",
      "3 5 8\n",
      "13 21 34 55\n",
      "89 144 233 377 610\n",
      "\n",
      "Runtime: 0.0021572113037109375\n"
     ]
    }
   ],
   "source": [
    "# For triangle of size 5\n",
    "start = time.time()\n",
    "FibonacciTriangle1(start=1, n=5)\n",
    "end = time.time()\n",
    "\n",
    "print(\"\\nRuntime: {}\".format(end-start))"
   ]
  },
  {
   "cell_type": "code",
   "execution_count": 4,
   "metadata": {},
   "outputs": [
    {
     "name": "stdout",
     "output_type": "stream",
     "text": [
      "1\n",
      "1 2\n",
      "3 5 8\n",
      "13 21 34 55\n",
      "89 144 233 377 610\n",
      "987 1597 2584 4181 6765 10946\n",
      "17711 28657 46368 75025 121393 196418 317811\n",
      "\n",
      "Runtime: 0.0020258426666259766\n"
     ]
    }
   ],
   "source": [
    "# For triangle of size 7\n",
    "start = time.time()\n",
    "FibonacciTriangle1(start=1, n=7)\n",
    "end = time.time()\n",
    "\n",
    "print(\"\\nRuntime: {}\".format(end-start))"
   ]
  },
  {
   "cell_type": "markdown",
   "metadata": {},
   "source": [
    "## Approach 2\n",
    "Here, we'll generate only as many numbers as needed based on which line of the triangle we are printing at that iteration."
   ]
  },
  {
   "cell_type": "code",
   "execution_count": 5,
   "metadata": {},
   "outputs": [],
   "source": [
    "def FibonacciTriangle2(start=1, n=5):\n",
    "    previous = start\n",
    "    current = 1\n",
    "    length = 1\n",
    "    while length <= n:\n",
    "        nums = list()    # To hold the numbers needed at this iteration\n",
    "        for _ in range(length):\n",
    "            nums.append(previous)\n",
    "            new = current + previous\n",
    "            previous = current\n",
    "            current = new\n",
    "        length += 1      # Update the triangle length for next iteration\n",
    "        print(*nums, sep=' ')"
   ]
  },
  {
   "cell_type": "code",
   "execution_count": 6,
   "metadata": {},
   "outputs": [
    {
     "name": "stdout",
     "output_type": "stream",
     "text": [
      "1\n",
      "1 2\n",
      "3 5 8\n",
      "13 21 34 55\n",
      "89 144 233 377 610\n",
      "\n",
      "Runtime: 0.0024175643920898438\n"
     ]
    }
   ],
   "source": [
    "# For triangle of size 5\n",
    "start = time.time() \n",
    "FibonacciTriangle2(start=1, n=5)\n",
    "end = time.time()\n",
    "\n",
    "print(\"\\nRuntime: {}\".format(end-start))"
   ]
  },
  {
   "cell_type": "code",
   "execution_count": 7,
   "metadata": {},
   "outputs": [
    {
     "name": "stdout",
     "output_type": "stream",
     "text": [
      "1\n",
      "1 2\n",
      "3 5 8\n",
      "13 21 34 55\n",
      "89 144 233 377 610\n",
      "987 1597 2584 4181 6765 10946\n",
      "17711 28657 46368 75025 121393 196418 317811\n",
      "\n",
      "Runtime: 0.0017611980438232422\n"
     ]
    }
   ],
   "source": [
    "# For triangle of size 7\n",
    "start = time.time() \n",
    "FibonacciTriangle2(start=1, n=7)\n",
    "end = time.time()\n",
    "\n",
    "print(\"\\nRuntime: {}\".format(end-start))"
   ]
  },
  {
   "cell_type": "markdown",
   "metadata": {},
   "source": [
    "## Conclusions\n",
    "As it turns out, the second approach takes longer to run than our first approach on an average. This could have happened because of the nested loops in Approach 2 (quadratic evolution) while Approach 1 had two independent loops (linear evolution). However, the second approach is less memory consuming, since the list storing the numbers is overwritten in every iteration."
   ]
  },
  {
   "cell_type": "markdown",
   "metadata": {},
   "source": [
    "## Please check out more advanced technicques like fast doubling method derived from matrix exponentiation algorithm. [fast doubling to calculate nth fibonacci number](fibonacci-faster.py)\n"
   ]
  },
  {
   "cell_type": "code",
   "execution_count": null,
   "metadata": {},
   "outputs": [],
   "source": []
  }
 ],
 "metadata": {
  "kernelspec": {
   "display_name": "Python 3",
   "language": "python",
   "name": "python3"
  },
  "language_info": {
   "codemirror_mode": {
    "name": "ipython",
    "version": 3
   },
   "file_extension": ".py",
   "mimetype": "text/x-python",
   "name": "python",
   "nbconvert_exporter": "python",
   "pygments_lexer": "ipython3",
   "version": "3.6.9"
  }
 },
 "nbformat": 4,
 "nbformat_minor": 2
}
