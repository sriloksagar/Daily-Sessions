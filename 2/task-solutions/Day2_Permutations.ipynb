{
 "cells": [
  {
   "cell_type": "markdown",
   "metadata": {},
   "source": [
    "# List Permutation\n",
    "In this notebook, I will explain a method to generate all possible permutations of a given array (as a Python list). For example, given an array $(1, 2, 3)$, we would like to generate the following set:\n",
    "\n",
    "$$\n",
    "P = \\{(1, 2, 3),\\;(2, 1, 3),\\;(1, 3, 2), \\;(3, 1, 2), \\;(2, 3, 1),\\; (3, 2, 1)\\}\n",
    "$$\n",
    "\n",
    "A bruteforce approach would be to use multiple nested for-loops, but this will quickly become very slow if the size of the input array is high. Instead, we will perform this task recursively, as I will describe below. Later on, we will use a Python library to do the same task.\n",
    "\n",
    "## Approach\n",
    "The lowest level of permutation that we can easily analyze is for an array of two elements. Our permutated set is the array itself and another with the elements swapped. For an array $(1, 2)$, we have $P = \\{ (1,2),\\;(2,1)\\}$. What about an array of 3 elements? \n",
    "\n",
    "Consider $(1,2,3)$. In all of its permutations, we will have three categories of arrays: those which end in 1, those which end in 2 and those which end in 3. Something like this:\n",
    "\n",
    "$$\n",
    "P = \\{([2,3], 1),\\;([1,3],2),\\;([1,2],3)\\}\n",
    "$$\n",
    "\n",
    "How do we find the arrays lying in category 1 (arrays ending in 1)? We just have to find all permutations of the sub-array formed by removing 1 from the main array (i.e. $(2, 3)$)! These sub-arrays have length 2, and we already know what we should do with arrays of length 2.\n",
    "\n",
    "Here is where recursive computation will make things very easy. We only have to deal with two cases: when the array (or sub-array) has length 2, and when it has length larger than 2. If it has length 2, we simply return a list of two arrays: the array itself and its swap. If larger than 2 elements, we loop over every element of the array and pass a sub-array to our function with that element removed. \n",
    "\n",
    "This entire operation can be visualized as a tree, as shown below. The recursion eventually reduces all sub-arrays to length 2, after which we only need to swap the array.\n",
    "\n",
    "<img src=\"images/perm_tree.jpeg\">\n",
    "\n",
    "Let's go ahead and write the function now."
   ]
  },
  {
   "cell_type": "code",
   "execution_count": 55,
   "metadata": {},
   "outputs": [],
   "source": [
    "def Permutate(array):\n",
    "    \"\"\"\n",
    "    Returns a list of all permutations of given array as lists.\n",
    "    \"\"\"\n",
    "    if len(array) == 2:\n",
    "        return [[array[0], array[1]], [array[1], array[0]]]\n",
    "    \n",
    "    elif len(array) > 2:\n",
    "        all_lists = []   # List to hold all permutations of a branch\n",
    "        for i in range(len(array)):\n",
    "            retval = Permutate(array[:i] + array[i+1:])\n",
    "            [a.append(array[i]) for a in retval]\n",
    "            for sub_list in retval:\n",
    "                all_lists.append(sub_list)\n",
    "        return all_lists\n",
    "    \n",
    "    # In the case where the list has 1 or zero elements\n",
    "    else:\n",
    "        return array"
   ]
  },
  {
   "cell_type": "code",
   "execution_count": 56,
   "metadata": {},
   "outputs": [
    {
     "data": {
      "text/plain": [
       "[[2, 3, 1], [3, 2, 1], [1, 3, 2], [3, 1, 2], [1, 2, 3], [2, 1, 3]]"
      ]
     },
     "execution_count": 56,
     "metadata": {},
     "output_type": "execute_result"
    }
   ],
   "source": [
    "# Demonstration 1\n",
    "Permutate([1, 2, 3])"
   ]
  },
  {
   "cell_type": "code",
   "execution_count": 57,
   "metadata": {},
   "outputs": [
    {
     "data": {
      "text/plain": [
       "[[6, 1, 4, 2],\n",
       " [1, 6, 4, 2],\n",
       " [4, 1, 6, 2],\n",
       " [1, 4, 6, 2],\n",
       " [4, 6, 1, 2],\n",
       " [6, 4, 1, 2],\n",
       " [6, 1, 2, 4],\n",
       " [1, 6, 2, 4],\n",
       " [2, 1, 6, 4],\n",
       " [1, 2, 6, 4],\n",
       " [2, 6, 1, 4],\n",
       " [6, 2, 1, 4],\n",
       " [4, 1, 2, 6],\n",
       " [1, 4, 2, 6],\n",
       " [2, 1, 4, 6],\n",
       " [1, 2, 4, 6],\n",
       " [2, 4, 1, 6],\n",
       " [4, 2, 1, 6],\n",
       " [4, 6, 2, 1],\n",
       " [6, 4, 2, 1],\n",
       " [2, 6, 4, 1],\n",
       " [6, 2, 4, 1],\n",
       " [2, 4, 6, 1],\n",
       " [4, 2, 6, 1]]"
      ]
     },
     "execution_count": 57,
     "metadata": {},
     "output_type": "execute_result"
    }
   ],
   "source": [
    "# Demonstration 2\n",
    "Permutate([2, 4, 6, 1])"
   ]
  },
  {
   "cell_type": "markdown",
   "metadata": {},
   "source": [
    "## Repeated elements\n",
    "Our function seems to work just fine. But what if we have repeated elements? Our algorithm does not see two equal elements as same, and we are bound to get repetitions. Below, we'll make a tiny change to ensure we get only unique permutations."
   ]
  },
  {
   "cell_type": "code",
   "execution_count": 76,
   "metadata": {},
   "outputs": [],
   "source": [
    "def Permutate(array):\n",
    "    \"\"\"\n",
    "    Returns a list of all permutations of given array as lists.\n",
    "    \"\"\"\n",
    "    if len(array) == 2:\n",
    "        return [[array[0], array[1]], [array[1], array[0]]]\n",
    "    \n",
    "    elif len(array) > 2:\n",
    "        all_lists = []    # List to hold all permutations of a branch\n",
    "        ret_list = []     # List to hold unique permutations of this branch\n",
    "        for i in range(len(array)):\n",
    "            retval = Permutate(array[:i] + array[i+1:])\n",
    "            [a.append(array[i]) for a in retval]\n",
    "            for sub_list in retval:\n",
    "                all_lists.append(sub_list)\n",
    "        \n",
    "        # Changes to remove duplicates\n",
    "        for l in all_lists:\n",
    "            if l not in ret_list:\n",
    "                ret_list.append(l)\n",
    "        return ret_list\n",
    "    \n",
    "    # In the case where the list has 1 or zero elements\n",
    "    else:\n",
    "        return array"
   ]
  },
  {
   "cell_type": "code",
   "execution_count": 75,
   "metadata": {},
   "outputs": [
    {
     "data": {
      "text/plain": [
       "[[1, 2, 0, 0],\n",
       " [2, 1, 0, 0],\n",
       " [0, 2, 1, 0],\n",
       " [2, 0, 1, 0],\n",
       " [0, 1, 2, 0],\n",
       " [1, 0, 2, 0],\n",
       " [0, 2, 0, 1],\n",
       " [2, 0, 0, 1],\n",
       " [0, 0, 2, 1],\n",
       " [0, 1, 0, 2],\n",
       " [1, 0, 0, 2],\n",
       " [0, 0, 1, 2]]"
      ]
     },
     "execution_count": 75,
     "metadata": {},
     "output_type": "execute_result"
    }
   ],
   "source": [
    "# Demonstration 3\n",
    "Permutate([0, 0, 1, 2])"
   ]
  },
  {
   "cell_type": "code",
   "execution_count": 77,
   "metadata": {},
   "outputs": [
    {
     "data": {
      "text/plain": [
       "[[0, 1, 0], [1, 0, 0], [0, 0, 1]]"
      ]
     },
     "execution_count": 77,
     "metadata": {},
     "output_type": "execute_result"
    }
   ],
   "source": [
    "# Demonstration 4\n",
    "Permutate([0, 0, 1])"
   ]
  },
  {
   "cell_type": "markdown",
   "metadata": {},
   "source": [
    "## Using Python libraries\n",
    "I Googled this one, no kidding. We are going to use the `permutations` function from the `itertools` library. Here's an implementation."
   ]
  },
  {
   "cell_type": "code",
   "execution_count": 2,
   "metadata": {},
   "outputs": [
    {
     "data": {
      "text/plain": [
       "[(1, 2, 3, 4),\n",
       " (1, 2, 4, 3),\n",
       " (1, 3, 2, 4),\n",
       " (1, 3, 4, 2),\n",
       " (1, 4, 2, 3),\n",
       " (1, 4, 3, 2),\n",
       " (2, 1, 3, 4),\n",
       " (2, 1, 4, 3),\n",
       " (2, 3, 1, 4),\n",
       " (2, 3, 4, 1),\n",
       " (2, 4, 1, 3),\n",
       " (2, 4, 3, 1),\n",
       " (3, 1, 2, 4),\n",
       " (3, 1, 4, 2),\n",
       " (3, 2, 1, 4),\n",
       " (3, 2, 4, 1),\n",
       " (3, 4, 1, 2),\n",
       " (3, 4, 2, 1),\n",
       " (4, 1, 2, 3),\n",
       " (4, 1, 3, 2),\n",
       " (4, 2, 1, 3),\n",
       " (4, 2, 3, 1),\n",
       " (4, 3, 1, 2),\n",
       " (4, 3, 2, 1)]"
      ]
     },
     "execution_count": 2,
     "metadata": {},
     "output_type": "execute_result"
    }
   ],
   "source": [
    "# Import the function\n",
    "from itertools import permutations\n",
    "\n",
    "# On a list with no repeated elements\n",
    "list(permutations([1, 2, 3, 4]))"
   ]
  },
  {
   "cell_type": "code",
   "execution_count": 80,
   "metadata": {},
   "outputs": [
    {
     "data": {
      "text/plain": [
       "[(0, 0, 1, 2),\n",
       " (0, 0, 2, 1),\n",
       " (0, 1, 0, 2),\n",
       " (0, 1, 2, 0),\n",
       " (0, 2, 0, 1),\n",
       " (0, 2, 1, 0),\n",
       " (0, 0, 1, 2),\n",
       " (0, 0, 2, 1),\n",
       " (0, 1, 0, 2),\n",
       " (0, 1, 2, 0),\n",
       " (0, 2, 0, 1),\n",
       " (0, 2, 1, 0),\n",
       " (1, 0, 0, 2),\n",
       " (1, 0, 2, 0),\n",
       " (1, 0, 0, 2),\n",
       " (1, 0, 2, 0),\n",
       " (1, 2, 0, 0),\n",
       " (1, 2, 0, 0),\n",
       " (2, 0, 0, 1),\n",
       " (2, 0, 1, 0),\n",
       " (2, 0, 0, 1),\n",
       " (2, 0, 1, 0),\n",
       " (2, 1, 0, 0),\n",
       " (2, 1, 0, 0)]"
      ]
     },
     "execution_count": 80,
     "metadata": {},
     "output_type": "execute_result"
    }
   ],
   "source": [
    "# On a list with repeated elements\n",
    "list(permutations([0, 0, 1, 2]))"
   ]
  },
  {
   "cell_type": "markdown",
   "metadata": {},
   "source": [
    "## Conclusion\n",
    "The `permutations` function from `itertools` returns a list of tuples, while we return a list of lists. It is not very difficult to convert our lists to tuples (just one more line, really). Also, the library function does not handle the problem of repeated elements, while we do. In real life, this might not really be a problem since repeated elements in a list could often mean different things."
   ]
  },
  {
   "cell_type": "code",
   "execution_count": 3,
   "metadata": {},
   "outputs": [
    {
     "data": {
      "text/plain": [
       "[(0, 0, 2, 1),\n",
       " (0, 2, 0, 1),\n",
       " (0, 1, 2, 0),\n",
       " (0, 2, 1, 0),\n",
       " (2, 0, 0, 1),\n",
       " (1, 0, 2, 0),\n",
       " (1, 2, 0, 0),\n",
       " (2, 0, 1, 0),\n",
       " (0, 0, 1, 2),\n",
       " (2, 1, 0, 0),\n",
       " (1, 0, 0, 2),\n",
       " (0, 1, 0, 2)]"
      ]
     },
     "execution_count": 3,
     "metadata": {},
     "output_type": "execute_result"
    }
   ],
   "source": [
    "# In order to handle repeated elements in a list\n",
    "list(set(list(permutations([0, 0, 1, 2]))))"
   ]
  },
  {
   "cell_type": "code",
   "execution_count": null,
   "metadata": {},
   "outputs": [],
   "source": []
  }
 ],
 "metadata": {
  "kernelspec": {
   "display_name": "Python 3",
   "language": "python",
   "name": "python3"
  },
  "language_info": {
   "codemirror_mode": {
    "name": "ipython",
    "version": 3
   },
   "file_extension": ".py",
   "mimetype": "text/x-python",
   "name": "python",
   "nbconvert_exporter": "python",
   "pygments_lexer": "ipython3",
   "version": "3.6.9"
  }
 },
 "nbformat": 4,
 "nbformat_minor": 2
}
