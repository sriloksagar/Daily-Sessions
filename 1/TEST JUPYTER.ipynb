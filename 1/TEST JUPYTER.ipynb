{
 "cells": [
  {
   "cell_type": "code",
   "execution_count": 1,
   "metadata": {},
   "outputs": [
    {
     "data": {
      "text/plain": [
       "3"
      ]
     },
     "execution_count": 1,
     "metadata": {},
     "output_type": "execute_result"
    }
   ],
   "source": [
    "1+2"
   ]
  },
  {
   "cell_type": "code",
   "execution_count": 2,
   "metadata": {},
   "outputs": [
    {
     "name": "stdout",
     "output_type": "stream",
     "text": [
      "Hello\n"
     ]
    }
   ],
   "source": [
    "print(\"Hello\")"
   ]
  },
  {
   "cell_type": "code",
   "execution_count": 3,
   "metadata": {},
   "outputs": [
    {
     "data": {
      "text/plain": [
       "'\\nMulti\\nline\\ncomments\\n'"
      ]
     },
     "execution_count": 3,
     "metadata": {},
     "output_type": "execute_result"
    }
   ],
   "source": [
    "# Comments in Python - single line comments\n",
    "\n",
    "\"\"\"\n",
    "Multi\n",
    "line\n",
    "comments\n",
    "\"\"\"\n"
   ]
  },
  {
   "cell_type": "markdown",
   "metadata": {},
   "source": [
    "## Exploring basic datatypes in python\n",
    "\n",
    "As mentioned in the introduction python is a **dynamically typed language** and hence **doesn't** require the user to **define variables** before intialising them.\n",
    "\n",
    "use the ```type()``` command to find the datatype of a particular variable\n",
    "\n",
    "| Type     |      example  |\n",
    "|----------|:-------------:|\n",
    "| Text Type |  str |\n",
    "| Numeric Types |    int, float, complex   |\n",
    "| Sequence Types | list, tuple, range |\n",
    "| Mapping Type | dict |\n",
    "| Set Types   | set, frozenset |\n",
    "| Boolean Type  | bool |\n",
    "| Binary Types   | bytes, bytearray, memoryview*** |"
   ]
  },
  {
   "cell_type": "code",
   "execution_count": 4,
   "metadata": {},
   "outputs": [
    {
     "name": "stdout",
     "output_type": "stream",
     "text": [
      "<class 'str'>\n"
     ]
    }
   ],
   "source": [
    "a = \"Hello\"\n",
    "print(type(a))"
   ]
  },
  {
   "cell_type": "markdown",
   "metadata": {},
   "source": [
    "# We will now look into these datatypes and libraries in detail as we further go on with these sessions.\n",
    "\n",
    "Kindly do fill the feedback form so that we can understand the kind of content or specific topics you want to learn so that we can bring in the same in these daily sessions.\n",
    "\n",
    "### Once again we will be conducting these sessions in a daily basis and we will also bring in certain tasks for you to complete every day. Please make sure you have a look at the same."
   ]
  },
  {
   "cell_type": "code",
   "execution_count": null,
   "metadata": {},
   "outputs": [],
   "source": []
  }
 ],
 "metadata": {
  "kernelspec": {
   "display_name": "Python 3",
   "language": "python",
   "name": "python3"
  },
  "language_info": {
   "codemirror_mode": {
    "name": "ipython",
    "version": 3
   },
   "file_extension": ".py",
   "mimetype": "text/x-python",
   "name": "python",
   "nbconvert_exporter": "python",
   "pygments_lexer": "ipython3",
   "version": "3.6.9"
  }
 },
 "nbformat": 4,
 "nbformat_minor": 2
}
