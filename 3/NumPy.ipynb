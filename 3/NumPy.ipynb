{
 "cells": [
  {
   "cell_type": "markdown",
   "metadata": {},
   "source": [
    "## Hello guys! Welcome to Day-3 of the sessions. Hope you were able to complete the Day-2 task and didn't face any issues. In case you do, please make sure to put them up on the issues tab.\n",
    "\n",
    "### Lets begin with this session right away!\n",
    "\n",
    "So today we will seeing what numpy and matplotlib is. Numpy is a python library used to handle matrices."
   ]
  },
  {
   "cell_type": "markdown",
   "metadata": {},
   "source": [
    "# Part-1 NumPy Basics"
   ]
  },
  {
   "cell_type": "code",
   "execution_count": 1,
   "metadata": {},
   "outputs": [],
   "source": [
    "import numpy as np"
   ]
  },
  {
   "cell_type": "markdown",
   "metadata": {},
   "source": [
    "## Create NumPy array"
   ]
  },
  {
   "cell_type": "code",
   "execution_count": 2,
   "metadata": {},
   "outputs": [
    {
     "name": "stdout",
     "output_type": "stream",
     "text": [
      "[1 3 4 5]\n",
      "[[1 2 3 4]\n",
      " [6 7 8 9]]\n",
      "2\n",
      "(2, 4)\n",
      "int64\n"
     ]
    }
   ],
   "source": [
    "## Creating array using a list\n",
    "ls1 = [1, 3, 4, 5] ## 1 dimensional list\n",
    "arr1 = np.array(ls1)\n",
    "print(arr1)\n",
    "\n",
    "ls2 = [[1, 2, 3, 4],[6, 7, 8, 9]] ## Multi-dimensional list\n",
    "data = np.array(ls2) ## creating a NumPy array\n",
    "print(data)\n",
    "\n",
    "print(data.ndim) \n",
    "print(data.shape)\n",
    "print(data.dtype) "
   ]
  },
  {
   "cell_type": "code",
   "execution_count": 3,
   "metadata": {},
   "outputs": [
    {
     "name": "stdout",
     "output_type": "stream",
     "text": [
      "(5,)\n",
      "(1, 5)\n",
      "(4, 5)\n"
     ]
    }
   ],
   "source": [
    "## Array of zeros\n",
    "arr2 = np.zeros(5)\n",
    "arr3 = np.zeros((1,5))\n",
    "## Note the difference in shape of arr2 and arr3\n",
    "arr4 = np.zeros((4,5)) ## higher dimensional array with 0s\n",
    "print(arr2.shape)\n",
    "print(arr3.shape)\n",
    "print(arr4.shape)"
   ]
  },
  {
   "cell_type": "code",
   "execution_count": 4,
   "metadata": {},
   "outputs": [
    {
     "data": {
      "text/plain": [
       "array([[[ 7.90505033e-323,  0.00000000e+000],\n",
       "        [-1.28822975e-231, -1.28822975e-231]],\n",
       "\n",
       "       [[ 6.91691904e-323,  0.00000000e+000],\n",
       "        [ 0.00000000e+000,  0.00000000e+000]],\n",
       "\n",
       "       [[ 0.00000000e+000,  0.00000000e+000],\n",
       "        [-1.28822975e-231, -1.28822975e-231]],\n",
       "\n",
       "       [[ 4.94065646e-323,  0.00000000e+000],\n",
       "        [-1.28822975e-231, -1.28822975e-231]]])"
      ]
     },
     "execution_count": 4,
     "metadata": {},
     "output_type": "execute_result"
    }
   ],
   "source": [
    "#empty creates an array without initializing its values to any particular value.\n",
    "np.empty((4, 2, 2))"
   ]
  },
  {
   "cell_type": "markdown",
   "metadata": {},
   "source": [
    "Let's figure out some more stuff from table below\n",
    "![](data/arr2.png)\n",
    "![](data/arr1.png)"
   ]
  },
  {
   "cell_type": "markdown",
   "metadata": {},
   "source": [
    "### Data Types for ndarrays\n",
    "The data type or dtype is a special object containing the information the ndarray needs to interpret a chunk of memory as a particular type of data"
   ]
  },
  {
   "cell_type": "code",
   "execution_count": 5,
   "metadata": {},
   "outputs": [
    {
     "name": "stdout",
     "output_type": "stream",
     "text": [
      "float64\n",
      "[[1. 2. 3. 4.]\n",
      " [6. 7. 8. 9.]]\n"
     ]
    }
   ],
   "source": [
    "ls = [[1, 2, 3, 4],[6, 7, 8, 9]]\n",
    "arr1 = np.array(ls, dtype=np.float64)\n",
    "print(arr1.dtype)\n",
    "print(arr1)"
   ]
  },
  {
   "cell_type": "markdown",
   "metadata": {},
   "source": [
    "The numerical dtypes are named the same way: a type name, like float or int, followed by a number indicating the number of bits per element. `Checkout table below for more information`\n",
    "![](data/arr4.png)\n",
    "![](data/arr3.png)"
   ]
  },
  {
   "cell_type": "code",
   "execution_count": 6,
   "metadata": {},
   "outputs": [
    {
     "name": "stdout",
     "output_type": "stream",
     "text": [
      "int64\n",
      "float64\n",
      "[ 3.7 -1.2 -2.6  0.5 12.9 10.1]\n",
      "[ 3 -1 -2  0 12 10]\n",
      "[0. 1. 2. 3. 4. 5. 6. 7. 8. 9.]\n"
     ]
    }
   ],
   "source": [
    "## You can explicitly convert or cast an array from one dtype to another using ndarray’s astype method:\n",
    "## Int ------> float\n",
    "arr = np.array([1, 2, 3, 4, 5])\n",
    "print(arr.dtype)\n",
    "float_arr = arr.astype(np.float64)\n",
    "print(float_arr.dtype)\n",
    "\n",
    "## Float ------> Int\n",
    "## If I cast some floating point numbers to be of integer dtype, the decimal part will be truncated:\n",
    "arr = np.array([3.7, -1.2, -2.6, 0.5, 12.9, 10.1])\n",
    "print(arr)\n",
    "print(arr.astype(np.int32))\n",
    "\n",
    "## You can also use another array’s dtype attribute:\n",
    "int_array = np.arange(10)\n",
    "calibers = np.array([.22, .270, .357, .380, .44, .50], dtype=np.float64)\n",
    "print(int_array.astype(calibers.dtype))"
   ]
  },
  {
   "cell_type": "code",
   "execution_count": 7,
   "metadata": {},
   "outputs": [
    {
     "name": "stdout",
     "output_type": "stream",
     "text": [
      "[ 1.25 -9.6  42.  ]\n"
     ]
    }
   ],
   "source": [
    "## If you have an array of strings representing numbers, you can use astype to convert them to numeric form:\n",
    "numeric_strings = np.array(['1.25', '-9.6', '42'], dtype=np.string_)\n",
    "print(numeric_strings.astype(float))\n",
    "## If casting were to fail for some reason (like a string that cannot be converted to float64), a TypeError will be raised"
   ]
  },
  {
   "cell_type": "markdown",
   "metadata": {},
   "source": [
    "## Operations between Arrays and Scalars\n",
    "Arrays are important because they enable you to express batch operations on data `without writing any for loops.` This is usually called `vectorization`. Any arithmetic op- erations between equal-size arrays applies the operation elementwise:"
   ]
  },
  {
   "cell_type": "code",
   "execution_count": 8,
   "metadata": {},
   "outputs": [
    {
     "name": "stdout",
     "output_type": "stream",
     "text": [
      "[[ 1  4  9 16]\n",
      " [36 49 64 81]]\n",
      "[[0 0 0 0]\n",
      " [0 0 0 0]]\n",
      "[[1. 1. 1. 1.]\n",
      " [1. 1. 1. 1.]]\n",
      "[[1.         0.5        0.33333333 0.25      ]\n",
      " [0.16666667 0.14285714 0.125      0.11111111]]\n",
      "[[ 1  4  9 16]\n",
      " [36 49 64 81]]\n"
     ]
    }
   ],
   "source": [
    "ls = [[1, 2, 3, 4],[6, 7, 8, 9]]\n",
    "arr = np.array(ls)\n",
    "print(arr*arr)\n",
    "print(arr-arr)\n",
    "print(arr/arr)\n",
    "print(1/arr)\n",
    "print(arr**2)"
   ]
  },
  {
   "cell_type": "markdown",
   "metadata": {},
   "source": [
    "Operations between differently sized arrays is called `broadcasting` and will be discussed in more detail in later in this notebook\n",
    "\n",
    "## Basic Indexing and Slicing\n",
    "![](data/arr5.png)"
   ]
  },
  {
   "cell_type": "code",
   "execution_count": 9,
   "metadata": {},
   "outputs": [
    {
     "name": "stdout",
     "output_type": "stream",
     "text": [
      "[[1 2 3 4]\n",
      " [6 7 8 9]]\n",
      "9\n",
      "9\n"
     ]
    }
   ],
   "source": [
    "ls = [[1, 2, 3, 4],[6, 7, 8, 9]]\n",
    "arr = np.array(ls)\n",
    "print(arr)\n",
    "print(arr[1][3])\n",
    "## or use \n",
    "print(arr[1, 3])"
   ]
  },
  {
   "cell_type": "markdown",
   "metadata": {},
   "source": [
    "**`Array slices are views on the original array.` This means that the data is not copied, and any modifications to the view will be reflected in the source array**"
   ]
  },
  {
   "cell_type": "code",
   "execution_count": 10,
   "metadata": {},
   "outputs": [
    {
     "name": "stdout",
     "output_type": "stream",
     "text": [
      "[3 4 5]\n",
      "[ 0  1  2  3  4 12 12]\n"
     ]
    }
   ],
   "source": [
    "arr = np.arange(7)\n",
    "print(arr[3: 6])\n",
    "\n",
    "arr[5:7] = 12 ##the value is propagated (or broadcasted henceforth) to the entire selection\n",
    "print(arr)"
   ]
  },
  {
   "cell_type": "markdown",
   "metadata": {},
   "source": [
    "**If you want a copy of a slice of an ndarray instead of a view, you will need to explicitly copy the array; for example arr[5:7].copy().**"
   ]
  },
  {
   "cell_type": "code",
   "execution_count": 11,
   "metadata": {},
   "outputs": [
    {
     "name": "stdout",
     "output_type": "stream",
     "text": [
      "[[1 2 3 4]\n",
      " [6 7 8 9]]\n",
      "[[2 3 4]\n",
      " [7 8 9]]\n"
     ]
    }
   ],
   "source": [
    "ls = [[1, 2, 3, 4],[6, 7, 8, 9]]\n",
    "arr = np.array(ls)\n",
    "print(arr)\n",
    "print(arr[:2, 1:])"
   ]
  },
  {
   "cell_type": "markdown",
   "metadata": {},
   "source": [
    "![](data/arr6.png)"
   ]
  },
  {
   "cell_type": "code",
   "execution_count": 12,
   "metadata": {},
   "outputs": [
    {
     "name": "stdout",
     "output_type": "stream",
     "text": [
      "[[-1.26341676  0.19807986 -1.65446289  1.64156278]\n",
      " [ 0.50165996 -0.911429   -0.88195149 -0.15204294]\n",
      " [ 0.1529012  -0.70054799  1.8318881  -0.78679042]\n",
      " [ 0.20472269  1.3426561   1.17777795  0.53897844]\n",
      " [-1.00923506  0.13651547 -0.49546943  2.20156266]\n",
      " [-0.48036817 -0.6699796   0.08173798  0.07929976]\n",
      " [-0.41385267  0.43974374  0.84247203  0.22686388]]\n"
     ]
    },
    {
     "data": {
      "text/plain": [
       "array([[ 1.8318881 , -0.78679042],\n",
       "       [-0.49546943,  2.20156266]])"
      ]
     },
     "execution_count": 12,
     "metadata": {},
     "output_type": "execute_result"
    }
   ],
   "source": [
    "## Lets involve bool values as well\n",
    "names = np.array(['Bob', 'Joe', 'Will', 'Bob', 'Will', 'Joe', 'Joe'])\n",
    "data = np.random.randn(7, 4)\n",
    "print(data)\n",
    "bool1 = names == 'Will'\n",
    "data[bool1, 2:4]"
   ]
  },
  {
   "cell_type": "code",
   "execution_count": 13,
   "metadata": {},
   "outputs": [
    {
     "name": "stdout",
     "output_type": "stream",
     "text": [
      "[-0.41385267  0.07929976  0.84247203]\n"
     ]
    },
    {
     "data": {
      "text/plain": [
       "array([[-0.41385267,  0.22686388,  0.84247203],\n",
       "       [-0.48036817,  0.07929976,  0.08173798],\n",
       "       [-0.41385267,  0.22686388,  0.84247203]])"
      ]
     },
     "execution_count": 13,
     "metadata": {},
     "output_type": "execute_result"
    }
   ],
   "source": [
    "## Some Fancy indexing\n",
    "print(data[[6, -2, -1], [0, 3, 2]])\n",
    "data[[6, -2, -1]][:, [0, 3, 2]]"
   ]
  },
  {
   "cell_type": "markdown",
   "metadata": {},
   "source": [
    "**`Note:`** ***Keep in mind that fancy indexing, unlike slicing, always copies the data into a new array.***"
   ]
  },
  {
   "cell_type": "markdown",
   "metadata": {},
   "source": [
    "## Transposing Arrays and Swapping Axes\n",
    "Transposing is a special form of reshaping which similarly returns a view on the underlying data `without copying anything.`"
   ]
  },
  {
   "cell_type": "code",
   "execution_count": 14,
   "metadata": {},
   "outputs": [
    {
     "name": "stdout",
     "output_type": "stream",
     "text": [
      "[[ 0  1  2  3  4]\n",
      " [ 5  6  7  8  9]\n",
      " [10 11 12 13 14]] \n",
      "\n",
      "[[ 0  5 10]\n",
      " [ 1  6 11]\n",
      " [ 2  7 12]\n",
      " [ 3  8 13]\n",
      " [ 4  9 14]] \n",
      "\n",
      "[[[ 0  1  2  3]\n",
      "  [ 4  5  6  7]]\n",
      "\n",
      " [[ 8  9 10 11]\n",
      "  [12 13 14 15]]] \n",
      "\n",
      "[[[ 0  8]\n",
      "  [ 4 12]]\n",
      "\n",
      " [[ 1  9]\n",
      "  [ 5 13]]\n",
      "\n",
      " [[ 2 10]\n",
      "  [ 6 14]]\n",
      "\n",
      " [[ 3 11]\n",
      "  [ 7 15]]] \n",
      "\n",
      "[[[ 0  1  2  3]\n",
      "  [ 8  9 10 11]]\n",
      "\n",
      " [[ 4  5  6  7]\n",
      "  [12 13 14 15]]] \n",
      "\n",
      "[[[ 0  1  2  3]\n",
      "  [ 8  9 10 11]]\n",
      "\n",
      " [[ 4  5  6  7]\n",
      "  [12 13 14 15]]] \n",
      "\n"
     ]
    }
   ],
   "source": [
    "arr = np.arange(15).reshape((3, 5))\n",
    "print(arr, '\\n')\n",
    "print(arr.T, '\\n')\n",
    "\n",
    "\n",
    "arr = np.arange(16).reshape((2, 2, 4))\n",
    "print(arr, '\\n')\n",
    "print(arr.T, '\\n')\n",
    "print(arr.swapaxes(0,1), '\\n') ## simply swap 2 axis \n",
    "print(arr.transpose((1,0,2)), '\\n') ## can swap multiple axis at a time"
   ]
  },
  {
   "cell_type": "markdown",
   "metadata": {},
   "source": [
    "## Universal Functions: Element-wise Array Functions"
   ]
  },
  {
   "cell_type": "code",
   "execution_count": 15,
   "metadata": {},
   "outputs": [
    {
     "name": "stdout",
     "output_type": "stream",
     "text": [
      "[[1.         1.41421356 1.73205081 2.        ]\n",
      " [2.23606798 2.44948974 2.64575131 2.82842712]]\n",
      "[[2.71828183e+00 7.38905610e+00 2.00855369e+01 5.45981500e+01]\n",
      " [1.48413159e+02 4.03428793e+02 1.09663316e+03 2.98095799e+03]]\n"
     ]
    }
   ],
   "source": [
    "arr = np.array([[1, 2, 3, 4],[5, 6, 7, 8]])\n",
    "print(np.sqrt(arr))\n",
    "print(np.exp(arr))"
   ]
  },
  {
   "cell_type": "markdown",
   "metadata": {},
   "source": [
    "![](data/arr7.png)\n",
    "![](data/arr8.png)"
   ]
  },
  {
   "cell_type": "code",
   "execution_count": 16,
   "metadata": {},
   "outputs": [
    {
     "data": {
      "text/plain": [
       "[array([[0.  , 0.01, 0.02, ..., 6.97, 6.98, 6.99],\n",
       "        [0.  , 0.01, 0.02, ..., 6.97, 6.98, 6.99],\n",
       "        [0.  , 0.01, 0.02, ..., 6.97, 6.98, 6.99],\n",
       "        ...,\n",
       "        [0.  , 0.01, 0.02, ..., 6.97, 6.98, 6.99],\n",
       "        [0.  , 0.01, 0.02, ..., 6.97, 6.98, 6.99],\n",
       "        [0.  , 0.01, 0.02, ..., 6.97, 6.98, 6.99]]),\n",
       " array([[0. , 0. , 0. , ..., 0. , 0. , 0. ],\n",
       "        [0.1, 0.1, 0.1, ..., 0.1, 0.1, 0.1],\n",
       "        [0.2, 0.2, 0.2, ..., 0.2, 0.2, 0.2],\n",
       "        ...,\n",
       "        [1.7, 1.7, 1.7, ..., 1.7, 1.7, 1.7],\n",
       "        [1.8, 1.8, 1.8, ..., 1.8, 1.8, 1.8],\n",
       "        [1.9, 1.9, 1.9, ..., 1.9, 1.9, 1.9]])]"
      ]
     },
     "execution_count": 16,
     "metadata": {},
     "output_type": "execute_result"
    }
   ],
   "source": [
    "arr1 = np.arange(0, 7, 0.01)\n",
    "arr2 = np.arange(0, 2, 0.1)\n",
    "np.meshgrid(arr1, arr2) ## produces all possible combination between arr1 and arr2"
   ]
  },
  {
   "cell_type": "markdown",
   "metadata": {},
   "source": [
    "## Sorting\n",
    "\n",
    "NumPy arrays can be sorted `in-place using the sort method`,meaning that the array contents are rearranged without producing a new array.\n",
    "The top level method np.sort returns a `sorted copy of an array` instead of modifying the array in place."
   ]
  },
  {
   "cell_type": "code",
   "execution_count": 17,
   "metadata": {},
   "outputs": [
    {
     "data": {
      "text/plain": [
       "array([[  2,   4,   5, 100],\n",
       "       [ 37,  62,  82, 153]])"
      ]
     },
     "execution_count": 17,
     "metadata": {},
     "output_type": "execute_result"
    }
   ],
   "source": [
    "arr = np.array([[2, 5, 100, 4],[153, 62, 37, 82]])\n",
    "np.sort(arr)"
   ]
  },
  {
   "cell_type": "code",
   "execution_count": 18,
   "metadata": {},
   "outputs": [],
   "source": [
    "## using sort method\n",
    "arr.sort()"
   ]
  },
  {
   "cell_type": "markdown",
   "metadata": {},
   "source": [
    "### Indirect Sorts: argsort and lexsort"
   ]
  },
  {
   "cell_type": "code",
   "execution_count": 19,
   "metadata": {},
   "outputs": [
    {
     "name": "stdout",
     "output_type": "stream",
     "text": [
      "[1 2 4 3 0]\n"
     ]
    },
    {
     "data": {
      "text/plain": [
       "array([0, 1, 2, 3, 5])"
      ]
     },
     "execution_count": 19,
     "metadata": {},
     "output_type": "execute_result"
    }
   ],
   "source": [
    "values = np.array([5, 0, 1, 3, 2]) \n",
    "indexer = values.argsort()\n",
    "print(indexer)\n",
    "values[indexer] "
   ]
  },
  {
   "cell_type": "code",
   "execution_count": 20,
   "metadata": {},
   "outputs": [
    {
     "name": "stdout",
     "output_type": "stream",
     "text": [
      "[45  2 22 11]\n"
     ]
    },
    {
     "data": {
      "text/plain": [
       "array([ 2, 32, 34, 43])"
      ]
     },
     "execution_count": 20,
     "metadata": {},
     "output_type": "execute_result"
    }
   ],
   "source": [
    "## lexsort is similar to argsort, but it performs an indirect lexicographical sort on multiple key arrays.\n",
    "first_name = np.array([22, 11, 45, 2]) \n",
    "last_name = np.array([34, 43, 2, 32]) \n",
    "sorter = np.lexsort((first_name, last_name))\n",
    "print(first_name[sorter])\n",
    "(last_name[sorter])"
   ]
  },
  {
   "cell_type": "markdown",
   "metadata": {},
   "source": [
    "## Unique and Set logic\n",
    "\n",
    "Try to implement stuff below by creating new cell\n",
    "![](data/arr9.png)"
   ]
  },
  {
   "cell_type": "markdown",
   "metadata": {},
   "source": [
    "## Random Number Generation\n",
    "The numpy.random module supplements the built-in Python random with functions for efficiently generating whole arrays of sample values from many kinds of probability\n",
    "distributions\n",
    "\n",
    "See Table 4-8 for a partial list of functions available in numpy.random.\n",
    "![](data/arr10.png)"
   ]
  },
  {
   "cell_type": "markdown",
   "metadata": {},
   "source": [
    "## Vectorization\n",
    "Vectorization is used to speed up the Python code without using loop. Using such a function can help in minimizing the running time of code efficiently.\\n\",\n",
    "To do so, Python has some standard mathematical functions for fast operations on entire arrays of data without having to write loops. One of such library which contains such function is `numpy.`\n",
    "Refer some functions for implementing vectorization in numpy\n",
    "![](data/arr15.png)"
   ]
  },
  {
   "cell_type": "markdown",
   "metadata": {},
   "source": [
    "## Matrix Multiplication"
   ]
  },
  {
   "cell_type": "code",
   "execution_count": 21,
   "metadata": {},
   "outputs": [
    {
     "name": "stdout",
     "output_type": "stream",
     "text": [
      "[[ 28.  64.]\n",
      " [ 67. 181.]]\n"
     ]
    },
    {
     "data": {
      "text/plain": [
       "array([[ 28.,  64.],\n",
       "       [ 67., 181.]])"
      ]
     },
     "execution_count": 21,
     "metadata": {},
     "output_type": "execute_result"
    }
   ],
   "source": [
    "## Matrix multiplication using dot is same as matrix multiplication in maths\n",
    "x = np.array([[1., 2., 3.], [4., 5., 6.]])\n",
    "y = np.array([[6., 23.], [-1, 7], [8, 9]])\n",
    "\n",
    "print(x.dot(y))\n",
    "## or use this\n",
    "np.dot(x, y)"
   ]
  },
  {
   "cell_type": "code",
   "execution_count": 22,
   "metadata": {},
   "outputs": [
    {
     "name": "stdout",
     "output_type": "stream",
     "text": [
      "[[ 6. 46. 27.]\n",
      " [-4. 35. 48.]]\n"
     ]
    },
    {
     "data": {
      "text/plain": [
       "array([[ 6., 46., 27.],\n",
       "       [-4., 35., 48.]])"
      ]
     },
     "execution_count": 22,
     "metadata": {},
     "output_type": "execute_result"
    }
   ],
   "source": [
    "## For elementwise multiplication\n",
    "x = np.array([[1., 2., 3.], [4., 5., 6.]])\n",
    "y = np.array([[6., 23., 9], [-1, 7, 8]])\n",
    "print(np.multiply(x, y))\n",
    "\n",
    "## Equivalent to x1 * x2 in terms of array broadcasting.\n",
    "x*y"
   ]
  },
  {
   "cell_type": "markdown",
   "metadata": {},
   "source": [
    "# Part-2 Advanced NumPy"
   ]
  },
  {
   "cell_type": "markdown",
   "metadata": {},
   "source": [
    "## Reshaping Arrays\n",
    "Given what we know about NumPy arrays, it should come as little surprise that you can convert an array from one shape to another `without copying any data.`"
   ]
  },
  {
   "cell_type": "code",
   "execution_count": 23,
   "metadata": {},
   "outputs": [
    {
     "name": "stdout",
     "output_type": "stream",
     "text": [
      "[[ 0  1  2  3]\n",
      " [ 4  5  6  7]\n",
      " [ 8  9 10 11]\n",
      " [12 13 14 15]\n",
      " [16 17 18 19]]\n",
      "[ 0  1  2  3  4  5  6  7  8  9 10 11 12 13 14 15 16 17 18 19]\n",
      "[ 0  1  2  3  4  5  6  7  8  9 10 11 12 13 14 15 16 17 18 19]\n"
     ]
    }
   ],
   "source": [
    "arr = np.arange(20)\n",
    "arr = arr.reshape((5,4))\n",
    "print(arr)\n",
    "## Reshape from hifher dimension to 1 dimension is called revelling or flattening\n",
    "print(arr.flatten())\n",
    "print(arr.ravel())\n",
    "# fatten method behaves similar to ravel except it always return a copy of data"
   ]
  },
  {
   "cell_type": "markdown",
   "metadata": {},
   "source": [
    "## C versus Fortran Order\n",
    "NumPy arrays are created in row major order. Spatially this means that if you have a two-dimensional array of data, the items in each row of the array are stored in adjacent memory locations. The alternative to row major ordering is column major order, which means that (you guessed it) values within each column of data are stored in adjacent memory locations.\n",
    "![](data/arr11.png)"
   ]
  },
  {
   "cell_type": "code",
   "execution_count": 24,
   "metadata": {},
   "outputs": [
    {
     "name": "stdout",
     "output_type": "stream",
     "text": [
      "[ 0  4  8 12 16  1  5  9 13 17  2  6 10 14 18  3  7 11 15 19]\n",
      "[ 0  1  2  3  4  5  6  7  8  9 10 11 12 13 14 15 16 17 18 19]\n"
     ]
    }
   ],
   "source": [
    "print(arr.ravel('F')) ## F argument for column major\n",
    "print(arr.flatten('C')) ## C argument for row major"
   ]
  },
  {
   "cell_type": "markdown",
   "metadata": {},
   "source": [
    "## Concating and Splitting Arrays"
   ]
  },
  {
   "cell_type": "code",
   "execution_count": 25,
   "metadata": {},
   "outputs": [
    {
     "name": "stdout",
     "output_type": "stream",
     "text": [
      "[[ 1  2  3]\n",
      " [ 4  5  6]\n",
      " [ 7  8  9]\n",
      " [10 11 12]]\n",
      "[[ 1  2  3  7  8  9]\n",
      " [ 4  5  6 10 11 12]]\n",
      "[[0 1 2 3]]\n",
      "[[ 4  5  6  7]\n",
      " [ 8  9 10 11]]\n",
      "[[12 13 14 15]\n",
      " [16 17 18 19]]\n"
     ]
    }
   ],
   "source": [
    "arr1 = np.array([[1, 2, 3], [4, 5, 6]]) \n",
    "arr2 = np.array([[7, 8, 9], [10, 11, 12]]) \n",
    "print(np.concatenate([arr1, arr2], axis=0)) ## along row axis\n",
    "print(np.concatenate([arr1, arr2], axis=1)) ## along column axis\n",
    "\n",
    "arr3 = np.arange(20).reshape((5,4))\n",
    "a1, a2, a3 = np.split(arr3, [1, 3]) ## putting cuts at 1st and 3rd posion along axis=0\n",
    "print(a1)\n",
    "print(a2)\n",
    "print(a3)"
   ]
  },
  {
   "cell_type": "markdown",
   "metadata": {},
   "source": [
    "See Table 12-1 for a list of all relevant concatenation and splitting functions, some of which are provided only as a convenience of the very general purpose concatenate.\n",
    "![](Images/arr12.png)\n",
    "\n",
    "## Fancy Indexing Equivalents: Take and Put"
   ]
  },
  {
   "cell_type": "code",
   "execution_count": 26,
   "metadata": {},
   "outputs": [
    {
     "name": "stdout",
     "output_type": "stream",
     "text": [
      "[700 100 200 600]\n",
      "[  0  42  42 300 400 500  42  42 800 900]\n"
     ]
    }
   ],
   "source": [
    "arr = np.arange(10) * 100\n",
    "inds = inds = [7, 1, 2, 6]\n",
    "print(arr.take(inds))\n",
    "\n",
    "arr.put(inds, 42)\n",
    "print(arr)\n",
    "## As of this writing, the take and put functions in general have better performance than their fancy indexing equivalents by a significant margin"
   ]
  },
  {
   "cell_type": "markdown",
   "metadata": {},
   "source": [
    "## Broadcasting\n",
    "\n",
    "See Figure 12-4, 12-5 for an illustration of this operation\n",
    "![](data/arr13.png)\n",
    "![](data/arr14.png)"
   ]
  },
  {
   "cell_type": "code",
   "execution_count": 27,
   "metadata": {},
   "outputs": [
    {
     "name": "stdout",
     "output_type": "stream",
     "text": [
      "[0.74122388 0.75013318 0.33044501]\n"
     ]
    },
    {
     "data": {
      "text/plain": [
       "array([[ 0.2332351 ,  0.18333927,  0.05186026],\n",
       "       [ 0.05869641,  0.07708805, -0.13090015],\n",
       "       [-0.29802306, -0.03521836,  0.3347184 ],\n",
       "       [ 0.00609155, -0.22520896, -0.2556785 ]])"
      ]
     },
     "execution_count": 27,
     "metadata": {},
     "output_type": "execute_result"
    }
   ],
   "source": [
    "arr = np.random.rand(4, 3)\n",
    "print(arr.mean(0))\n",
    "demeaned = arr - arr.mean(0)\n",
    "demeaned"
   ]
  },
  {
   "cell_type": "code",
   "execution_count": 28,
   "metadata": {},
   "outputs": [
    {
     "data": {
      "text/plain": [
       "array([[5., 5., 5.],\n",
       "       [5., 5., 5.],\n",
       "       [5., 5., 5.],\n",
       "       [5., 5., 5.]])"
      ]
     },
     "execution_count": 28,
     "metadata": {},
     "output_type": "execute_result"
    }
   ],
   "source": [
    "## Setting arr value using broadcastimg\n",
    "arr = np.empty((4, 3))\n",
    "arr[:] = 5\n",
    "arr"
   ]
  },
  {
   "cell_type": "markdown",
   "metadata": {},
   "source": [
    "## Structured Arrays\n",
    "A structured array is an ndarray in which each element can be thought of as representing a struct in C (hence the “structured” name) or a row in a SQL table with multiple named fields\n",
    "\n",
    "Since each element in the array is represented in memory as a fixed number of bytes, structured arrays provide a very fast and efficient way of writing data to and from disk, transporting it over the network, and other such use."
   ]
  },
  {
   "cell_type": "code",
   "execution_count": 29,
   "metadata": {},
   "outputs": [
    {
     "name": "stdout",
     "output_type": "stream",
     "text": [
      "[(1.5       ,  6) (3.14159265, -2)]\n",
      "(1.5, 6)\n",
      "6\n",
      "[1.5        3.14159265]\n"
     ]
    }
   ],
   "source": [
    "dtype = [('x', np.float64), ('y', np.int32)]\n",
    "sarr = np.array([(1.5, 6), (np.pi, -2)], dtype=dtype)\n",
    "print(sarr)\n",
    "print(sarr[0])\n",
    "print(sarr[0]['y'])\n",
    "print(sarr['x'])"
   ]
  },
  {
   "cell_type": "markdown",
   "metadata": {},
   "source": [
    "## Performance Tips\n",
    "Getting good performance out of code utilizing NumPy is often straightforward, as array operations typically replace otherwise comparatively extremely slow pure Python loops. Here is a brief list of some of the things to keep in mind:\n",
    "<ol>\n",
    "    <li>Convert Python loops and conditional logic to array operations and boolean array operations</li>\n",
    "    <li>Use broadcasting whenever possible</li>\n",
    "    <li>Avoid copying data using array views (slicing)</li>\n",
    "</ol>\n",
    "\n",
    "### The Importance of Contiguous memory\n",
    "Operations accessing contiguous blocks of memory (for example, summing the rows of a C order array) will generally be the fastest because \n",
    "<ol>\n",
    "<li>The memory subsystem will buffer the appropriate blocks of memory into the ultrafast L1 or L2 CPU cache.</li>\n",
    "    <li>Also, certain code paths inside NumPy’s C codebase have been optimized for the contiguous case in which generic strided memory access can be avoided.</li>\n",
    "</ol>\n",
    "\n",
    "To say that an array’s memory layout is contiguous means that the elements are stored in memory in the order that they appear in the array with respect to Fortran (column major) or C (row major) ordering. These properties can be ex- plicitly checked via the flags attribute on the ndarray:"
   ]
  },
  {
   "cell_type": "code",
   "execution_count": 30,
   "metadata": {},
   "outputs": [
    {
     "name": "stdout",
     "output_type": "stream",
     "text": [
      "  C_CONTIGUOUS : True\n",
      "  F_CONTIGUOUS : False\n",
      "  OWNDATA : True\n",
      "  WRITEABLE : True\n",
      "  ALIGNED : True\n",
      "  WRITEBACKIFCOPY : False\n",
      "  UPDATEIFCOPY : False\n",
      "\n"
     ]
    },
    {
     "data": {
      "text/plain": [
       "  C_CONTIGUOUS : False\n",
       "  F_CONTIGUOUS : True\n",
       "  OWNDATA : True\n",
       "  WRITEABLE : True\n",
       "  ALIGNED : True\n",
       "  WRITEBACKIFCOPY : False\n",
       "  UPDATEIFCOPY : False"
      ]
     },
     "execution_count": 30,
     "metadata": {},
     "output_type": "execute_result"
    }
   ],
   "source": [
    "arr_c = np.ones((1000, 1000), order='C') \n",
    "arr_f = np.ones((1000, 1000), order='F')\n",
    "print(arr_c.flags) \n",
    "arr_f.flags"
   ]
  },
  {
   "cell_type": "code",
   "execution_count": 31,
   "metadata": {},
   "outputs": [
    {
     "name": "stdout",
     "output_type": "stream",
     "text": [
      "399 µs ± 17.3 µs per loop (mean ± std. dev. of 7 runs, 1000 loops each)\n"
     ]
    }
   ],
   "source": [
    "%timeit arr_c.sum(1)"
   ]
  },
  {
   "cell_type": "code",
   "execution_count": 32,
   "metadata": {},
   "outputs": [
    {
     "name": "stdout",
     "output_type": "stream",
     "text": [
      "645 µs ± 11.3 µs per loop (mean ± std. dev. of 7 runs, 1000 loops each)\n"
     ]
    }
   ],
   "source": [
    "%timeit arr_f.sum(1)"
   ]
  },
  {
   "cell_type": "markdown",
   "metadata": {},
   "source": [
    "## Next lets move on to matplotlib [link](matplotlib.ipynb)"
   ]
  },
  {
   "cell_type": "code",
   "execution_count": null,
   "metadata": {},
   "outputs": [],
   "source": []
  }
 ],
 "metadata": {
  "kernelspec": {
   "display_name": "Python 3",
   "language": "python",
   "name": "python3"
  },
  "language_info": {
   "codemirror_mode": {
    "name": "ipython",
    "version": 3
   },
   "file_extension": ".py",
   "mimetype": "text/x-python",
   "name": "python",
   "nbconvert_exporter": "python",
   "pygments_lexer": "ipython3",
   "version": "3.6.9"
  }
 },
 "nbformat": 4,
 "nbformat_minor": 2
}
